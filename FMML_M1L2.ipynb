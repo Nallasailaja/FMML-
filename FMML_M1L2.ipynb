{
  "cells": [
    {
      "cell_type": "markdown",
      "metadata": {
        "id": "view-in-github",
        "colab_type": "text"
      },
      "source": [
        "<a href=\"https://colab.research.google.com/github/Nallasailaja/FMML-/blob/main/FMML_M1L2.ipynb\" target=\"_parent\"><img src=\"https://colab.research.google.com/assets/colab-badge.svg\" alt=\"Open In Colab\"/></a>"
      ]
    },
    {
      "cell_type": "markdown",
      "metadata": {
        "id": "3Eu9VZbF01eq"
      },
      "source": [
        "# Machine Learning terms and metrics\n",
        "\n",
        "FMML Module 1, Lab 2\n",
        "\n",
        "In this lab, we will show a part of the ML pipeline by using the California Housing dataset. There are 20640 samples, each with 8 attributes like income of the block, age of the houses per district etc. The task is to predict the cost of the houses per district. We will use the scikit-learn library to load the data and perform some basic data preprocessing and model training. We will also show how to evaluate the model using some common metrics, split the data into training and testing sets, and use cross-validation to get a better estimate of the model's performance."
      ]
    },
    {
      "cell_type": "code",
      "execution_count": 1,
      "metadata": {
        "id": "8qBvyEem0vLi"
      },
      "outputs": [],
      "source": [
        "import numpy as np\n",
        "from sklearn import datasets\n",
        "import matplotlib.pyplot as plt\n",
        "\n",
        "rng = np.random.default_rng(seed=42)"
      ]
    },
    {
      "cell_type": "code",
      "execution_count": 2,
      "metadata": {
        "colab": {
          "base_uri": "https://localhost:8080/"
        },
        "id": "8LpqjN991GGJ",
        "outputId": "3bc52ebd-757d-4cc3-f161-9c68b1a7edec"
      },
      "outputs": [
        {
          "output_type": "stream",
          "name": "stdout",
          "text": [
            ".. _california_housing_dataset:\n",
            "\n",
            "California Housing dataset\n",
            "--------------------------\n",
            "\n",
            "**Data Set Characteristics:**\n",
            "\n",
            ":Number of Instances: 20640\n",
            "\n",
            ":Number of Attributes: 8 numeric, predictive attributes and the target\n",
            "\n",
            ":Attribute Information:\n",
            "    - MedInc        median income in block group\n",
            "    - HouseAge      median house age in block group\n",
            "    - AveRooms      average number of rooms per household\n",
            "    - AveBedrms     average number of bedrooms per household\n",
            "    - Population    block group population\n",
            "    - AveOccup      average number of household members\n",
            "    - Latitude      block group latitude\n",
            "    - Longitude     block group longitude\n",
            "\n",
            ":Missing Attribute Values: None\n",
            "\n",
            "This dataset was obtained from the StatLib repository.\n",
            "https://www.dcc.fc.up.pt/~ltorgo/Regression/cal_housing.html\n",
            "\n",
            "The target variable is the median house value for California districts,\n",
            "expressed in hundreds of thousands of dollars ($100,000).\n",
            "\n",
            "This dataset was derived from the 1990 U.S. census, using one row per census\n",
            "block group. A block group is the smallest geographical unit for which the U.S.\n",
            "Census Bureau publishes sample data (a block group typically has a population\n",
            "of 600 to 3,000 people).\n",
            "\n",
            "A household is a group of people residing within a home. Since the average\n",
            "number of rooms and bedrooms in this dataset are provided per household, these\n",
            "columns may take surprisingly large values for block groups with few households\n",
            "and many empty houses, such as vacation resorts.\n",
            "\n",
            "It can be downloaded/loaded using the\n",
            ":func:`sklearn.datasets.fetch_california_housing` function.\n",
            "\n",
            ".. rubric:: References\n",
            "\n",
            "- Pace, R. Kelley and Ronald Barry, Sparse Spatial Autoregressions,\n",
            "  Statistics and Probability Letters, 33 (1997) 291-297\n",
            "\n"
          ]
        }
      ],
      "source": [
        "dataset = datasets.fetch_california_housing()\n",
        "# Dataset description\n",
        "print(dataset.DESCR)"
      ]
    },
    {
      "cell_type": "markdown",
      "metadata": {
        "id": "PCe1VNftevgE"
      },
      "source": [
        "Given below are the list of target values. These correspond to the house value derived considering all the 8 input features and are continuous values. We should use regression models to predict these values but we will start with a simple classification model for the sake of simplicity. We need to just round off the values to the nearest integer and use a classification model to predict the house value."
      ]
    },
    {
      "cell_type": "code",
      "execution_count": 3,
      "metadata": {
        "colab": {
          "base_uri": "https://localhost:8080/"
        },
        "id": "F8K0ggBOevgE",
        "outputId": "d3469098-db12-4206-8fbc-ce7a48170472"
      },
      "outputs": [
        {
          "output_type": "stream",
          "name": "stdout",
          "text": [
            "Orignal target values: [4.526 3.585 3.521 ... 0.923 0.847 0.894]\n",
            "Target values after conversion: [4 3 3 ... 0 0 0]\n",
            "Input variables shape: (20640, 8)\n",
            "Output variables shape: (20640,)\n"
          ]
        }
      ],
      "source": [
        "print(\"Orignal target values:\", dataset.target)\n",
        "\n",
        "dataset.target = dataset.target.astype(int)\n",
        "\n",
        "print(\"Target values after conversion:\", dataset.target)\n",
        "print(\"Input variables shape:\", dataset.data.shape)\n",
        "print(\"Output variables shape:\", dataset.target.shape)"
      ]
    },
    {
      "cell_type": "markdown",
      "metadata": {
        "id": "iNx4174W5xRg"
      },
      "source": [
        "The simplest model to use for classification is the K-Nearest Neighbors model. We will use this model to predict the house value with a K value of 1. We will also use the accuracy metric to evaluate the model."
      ]
    },
    {
      "cell_type": "code",
      "execution_count": 4,
      "metadata": {
        "id": "07zpydQj1hIQ"
      },
      "outputs": [],
      "source": [
        "def NN1(traindata, trainlabel, query):\n",
        "    \"\"\"\n",
        "    This function takes in the training data, training labels and a query point\n",
        "    and returns the predicted label for the query point using the nearest neighbour algorithm\n",
        "\n",
        "    traindata: numpy array of shape (n,d) where n is the number of samples and d is the number of features\n",
        "    trainlabel: numpy array of shape (n,) where n is the number of samples\n",
        "    query: numpy array of shape (d,) where d is the number of features\n",
        "\n",
        "    returns: the predicted label for the query point which is the label of the training data which is closest to the query point\n",
        "    \"\"\"\n",
        "    diff = (\n",
        "        traindata - query\n",
        "    )  # find the difference between features. Numpy automatically takes care of the size here\n",
        "    sq = diff * diff  # square the differences\n",
        "    dist = sq.sum(1)  # add up the squares\n",
        "    label = trainlabel[np.argmin(dist)]\n",
        "    return label\n",
        "\n",
        "\n",
        "def NN(traindata, trainlabel, testdata):\n",
        "    \"\"\"\n",
        "    This function takes in the training data, training labels and test data\n",
        "    and returns the predicted labels for the test data using the nearest neighbour algorithm\n",
        "\n",
        "    traindata: numpy array of shape (n,d) where n is the number of samples and d is the number of features\n",
        "    trainlabel: numpy array of shape (n,) where n is the number of samples\n",
        "    testdata: numpy array of shape (m,d) where m is the number of test samples and d is the number of features\n",
        "\n",
        "    returns: the predicted labels for the test data which is the label of the training data which is closest to each test point\n",
        "    \"\"\"\n",
        "    predlabel = np.array([NN1(traindata, trainlabel, i) for i in testdata])\n",
        "    return predlabel"
      ]
    },
    {
      "cell_type": "markdown",
      "metadata": {
        "id": "03JktkfIGaje"
      },
      "source": [
        "We will also define a 'random classifier', which randomly allots labels to each sample"
      ]
    },
    {
      "cell_type": "code",
      "execution_count": 5,
      "metadata": {
        "id": "fogWAtjyGhAH"
      },
      "outputs": [],
      "source": [
        "def RandomClassifier(traindata, trainlabel, testdata):\n",
        "    \"\"\"\n",
        "    This function takes in the training data, training labels and test data\n",
        "    and returns the predicted labels for the test data using the random classifier algorithm\n",
        "\n",
        "    In reality, we don't need these arguments but we are passing them to keep the function signature consistent with other classifiers\n",
        "\n",
        "    traindata: numpy array of shape (n,d) where n is the number of samples and d is the number of features\n",
        "    trainlabel: numpy array of shape (n,) where n is the number of samples\n",
        "    testdata: numpy array of shape (m,d) where m is the number of test samples and d is the number of features\n",
        "\n",
        "    returns: the predicted labels for the test data which is a random label from the training data\n",
        "    \"\"\"\n",
        "\n",
        "    classes = np.unique(trainlabel)\n",
        "    rints = rng.integers(low=0, high=len(classes), size=len(testdata))\n",
        "    predlabel = classes[rints]\n",
        "    return predlabel"
      ]
    },
    {
      "cell_type": "markdown",
      "metadata": {
        "id": "1Hjf1KHs7fU5"
      },
      "source": [
        "We need a metric to evaluate the performance of the model. Let us define a metric 'Accuracy' to see how good our learning algorithm is. Accuracy is the ratio of the number of correctly classified samples to the total number of samples. The higher the accuracy, the better the algorithm. We will use the accuracy metric to evaluate and compate the performance of the K-Nearest Neighbors model and the random classifier."
      ]
    },
    {
      "cell_type": "code",
      "execution_count": 6,
      "metadata": {
        "id": "ouuCqWU07bz-"
      },
      "outputs": [],
      "source": [
        "def Accuracy(gtlabel, predlabel):\n",
        "    \"\"\"\n",
        "    This function takes in the ground-truth labels and predicted labels\n",
        "    and returns the accuracy of the classifier\n",
        "\n",
        "    gtlabel: numpy array of shape (n,) where n is the number of samples\n",
        "    predlabel: numpy array of shape (n,) where n is the number of samples\n",
        "\n",
        "    returns: the accuracy of the classifier which is the number of correct predictions divided by the total number of predictions\n",
        "    \"\"\"\n",
        "    assert len(gtlabel) == len(\n",
        "        predlabel\n",
        "    ), \"Length of the ground-truth labels and predicted labels should be the same\"\n",
        "    correct = (\n",
        "        gtlabel == predlabel\n",
        "    ).sum()  # count the number of times the groundtruth label is equal to the predicted label.\n",
        "    return correct / len(gtlabel)"
      ]
    },
    {
      "cell_type": "markdown",
      "metadata": {
        "id": "4vJFwBFa9Klw"
      },
      "source": [
        "Let us make a function to split the dataset with the desired probability. We will use this function to split the dataset into training and testing sets. We will use the training set to train the model and the testing set to evaluate the model."
      ]
    },
    {
      "cell_type": "code",
      "execution_count": 7,
      "metadata": {
        "id": "Ko0VzpSM2Tdi"
      },
      "outputs": [],
      "source": [
        "def split(data, label, percent):\n",
        "    # generate a random number for each sample\n",
        "    rnd = rng.random(len(label))\n",
        "    split1 = rnd < percent\n",
        "    split2 = rnd >= percent\n",
        "\n",
        "    split1data = data[split1, :]\n",
        "    split1label = label[split1]\n",
        "    split2data = data[split2, :]\n",
        "    split2label = label[split2]\n",
        "    return split1data, split1label, split2data, split2label"
      ]
    },
    {
      "cell_type": "markdown",
      "metadata": {
        "id": "AcK3LEAJ_LGC"
      },
      "source": [
        "We will reserve 20% of our dataset as the test set. We will not change this portion throughout our experiments"
      ]
    },
    {
      "cell_type": "code",
      "execution_count": 8,
      "metadata": {
        "colab": {
          "base_uri": "https://localhost:8080/"
        },
        "id": "bBZkHBLJ1iU-",
        "outputId": "3e363437-dc26-4923-fe0e-4d66c3d5e534"
      },
      "outputs": [
        {
          "output_type": "stream",
          "name": "stdout",
          "text": [
            "Number of test samples: 4144\n",
            "Number of train samples: 16496\n",
            "Percent of test data: 20.07751937984496 %\n"
          ]
        }
      ],
      "source": [
        "testdata, testlabel, alltraindata, alltrainlabel = split(\n",
        "    dataset.data, dataset.target, 20 / 100\n",
        ")\n",
        "print(\"Number of test samples:\", len(testlabel))\n",
        "print(\"Number of train samples:\", len(alltrainlabel))\n",
        "print(\"Percent of test data:\", len(testlabel) * 100 / len(dataset.target), \"%\")"
      ]
    },
    {
      "cell_type": "markdown",
      "metadata": {
        "id": "a6Ss0Z6IAGNV"
      },
      "source": [
        "## Experiments with splits\n",
        "\n",
        "Let us reserve some of our train data as a validation set"
      ]
    },
    {
      "cell_type": "code",
      "execution_count": 9,
      "metadata": {
        "id": "WFew2iry_7W7"
      },
      "outputs": [],
      "source": [
        "traindata, trainlabel, valdata, vallabel = split(\n",
        "    alltraindata, alltrainlabel, 75 / 100)"
      ]
    },
    {
      "cell_type": "markdown",
      "metadata": {
        "id": "60hiu4clFN1i"
      },
      "source": [
        "What is the accuracy of our classifiers on the train dataset?"
      ]
    },
    {
      "cell_type": "code",
      "execution_count": 10,
      "metadata": {
        "colab": {
          "base_uri": "https://localhost:8080/"
        },
        "id": "DBlZDTHUFTZx",
        "outputId": "ee95b10e-05ca-4b8b-a152-39a8a20646fe"
      },
      "outputs": [
        {
          "output_type": "stream",
          "name": "stdout",
          "text": [
            "Training accuracy using nearest neighbour algorithm: 100.0 %\n",
            "Training accuracy using random classifier:  16.4375808538163 %\n"
          ]
        }
      ],
      "source": [
        "trainpred = NN(traindata, trainlabel, traindata)\n",
        "trainAccuracy = Accuracy(trainlabel, trainpred)\n",
        "print(\"Training accuracy using nearest neighbour algorithm:\", trainAccuracy*100, \"%\")\n",
        "\n",
        "trainpred = RandomClassifier(traindata, trainlabel, traindata)\n",
        "trainAccuracy = Accuracy(trainlabel, trainpred)\n",
        "print(\"Training accuracy using random classifier: \", trainAccuracy*100, \"%\")"
      ]
    },
    {
      "cell_type": "markdown",
      "metadata": {
        "id": "7h08-9gJDtSy"
      },
      "source": [
        "For nearest neighbour, the train accuracy is always 1. The accuracy of the random classifier is close to 1/(number of classes) which is 0.1666 in our case. This is because the random classifier randomly assigns a label to each sample and the probability of assigning the correct label is 1/(number of classes). Let us predict the labels for our validation set and get the accuracy. This accuracy is a good estimate of the accuracy of our model on unseen data."
      ]
    },
    {
      "cell_type": "code",
      "execution_count": 11,
      "metadata": {
        "colab": {
          "base_uri": "https://localhost:8080/"
        },
        "id": "4h7bXoW_2H3v",
        "outputId": "008ed485-5437-4270-c526-cc4cc7e17153"
      },
      "outputs": [
        {
          "output_type": "stream",
          "name": "stdout",
          "text": [
            "Validation accuracy using nearest neighbour algorithm: 34.10852713178294 %\n",
            "Validation accuracy using random classifier: 16.884689922480618 %\n"
          ]
        }
      ],
      "source": [
        "valpred = NN(traindata, trainlabel, valdata)\n",
        "valAccuracy = Accuracy(vallabel, valpred)\n",
        "print(\"Validation accuracy using nearest neighbour algorithm:\", valAccuracy*100, \"%\")\n",
        "\n",
        "\n",
        "valpred = RandomClassifier(traindata, trainlabel, valdata)\n",
        "valAccuracy = Accuracy(vallabel, valpred)\n",
        "print(\"Validation accuracy using random classifier:\", valAccuracy*100, \"%\")"
      ]
    },
    {
      "cell_type": "markdown",
      "metadata": {
        "id": "py9bLguFEjfg"
      },
      "source": [
        "Validation accuracy of nearest neighbour is considerably less than its train accuracy while the validation accuracy of random classifier is the same. However, the validation accuracy of nearest neighbour is twice that of the random classifier. Now let us try another random split and check the validation accuracy. We will see that the validation accuracy changes with the split. This is because the validation set is small and the accuracy is highly dependent on the samples in the validation set. We can get a better estimate of the accuracy by using cross-validation."
      ]
    },
    {
      "cell_type": "code",
      "execution_count": 12,
      "metadata": {
        "colab": {
          "base_uri": "https://localhost:8080/"
        },
        "id": "ujm3cyYzEntE",
        "outputId": "f20a1c04-db07-4120-afe7-505922edc5af"
      },
      "outputs": [
        {
          "output_type": "stream",
          "name": "stdout",
          "text": [
            "Validation accuracy using nearest neighbour algorithm: 34.048257372654156 %\n"
          ]
        }
      ],
      "source": [
        "traindata, trainlabel, valdata, vallabel = split(\n",
        "    alltraindata, alltrainlabel, 75 / 100)\n",
        "valpred = NN(traindata, trainlabel, valdata)\n",
        "valAccuracy = Accuracy(vallabel, valpred)\n",
        "print(\"Validation accuracy using nearest neighbour algorithm:\", valAccuracy*100, \"%\")"
      ]
    },
    {
      "cell_type": "markdown",
      "metadata": {
        "id": "oSOx7U83EKie"
      },
      "source": [
        "You can run the above cell multiple times to try with different random splits.\n",
        "We notice that the accuracy is different for each run, but close together.\n",
        "\n",
        "Now let us compare it with the accuracy we get on the test dataset."
      ]
    },
    {
      "cell_type": "code",
      "execution_count": 13,
      "metadata": {
        "colab": {
          "base_uri": "https://localhost:8080/"
        },
        "id": "PNEZ5ToYBEDW",
        "outputId": "184e1066-f157-46ff-a17e-7d1e40a863d6"
      },
      "outputs": [
        {
          "output_type": "stream",
          "name": "stdout",
          "text": [
            "Test accuracy: 34.91795366795367 %\n"
          ]
        }
      ],
      "source": [
        "testpred = NN(alltraindata, alltrainlabel, testdata)\n",
        "testAccuracy = Accuracy(testlabel, testpred)\n",
        "\n",
        "print(\"Test accuracy:\", testAccuracy*100, \"%\")"
      ]
    },
    {
      "cell_type": "markdown",
      "metadata": {
        "id": "w3dGD531K3gH"
      },
      "source": [
        "### Try it out for yourself and answer:\n",
        "1. How is the accuracy of the validation set affected if we increase the percentage of validation set? What happens when we reduce it?\n",
        "2. How does the size of the train and validation set affect how well we can predict the accuracy on the test set using the validation set?\n",
        "3. What do you think is a good percentage to reserve for the validation set so that thest two factors are balanced?\n",
        "\n",
        "Answer for both nearest neighbour and random classifier. You can note down the values for your experiments and plot a graph using  <a href=https://matplotlib.org/stable/gallery/lines_bars_and_markers/step_demo.html#sphx-glr-gallery-lines-bars-and-markers-step-demo-py>plt.plot<href>. Check also for extreme values for splits, like 99.9% or 0.1%"
      ]
    },
    {
      "cell_type": "markdown",
      "metadata": {
        "id": "M9zvdYY6evgI"
      },
      "source": [
        "> Exercise: Try to implement a 3 nearest neighbour classifier and compare the accuracy of the 1 nearest neighbour classifier and the 3 nearest neighbour classifier on the test dataset. You can use the KNeighborsClassifier class from the scikit-learn library to implement the K-Nearest Neighbors model. You can set the number of neighbors using the n_neighbors parameter. You can also use the accuracy_score function from the scikit-learn library to calculate the accuracy of the model."
      ]
    },
    {
      "cell_type": "markdown",
      "metadata": {
        "id": "PnYvkAZLQY7h"
      },
      "source": [
        "## Multiple Splits\n",
        "\n",
        "One way to get more accurate estimates for the test accuracy is by using <b>cross-validation</b>. Here, we will try a simple version, where we do multiple train/val splits and take the average of validation accuracies as the test accuracy estimation. Here is a function for doing this. Note that this function will take a long time to execute. You can reduce the number of splits to make it faster."
      ]
    },
    {
      "cell_type": "code",
      "execution_count": 14,
      "metadata": {
        "id": "E4nGCUQXBTzo"
      },
      "outputs": [],
      "source": [
        "def AverageAccuracy(alldata, alllabel, splitpercent, iterations, classifier=NN):\n",
        "    \"\"\"\n",
        "    This function takes in the data, labels, split percentage, number of iterations and classifier function\n",
        "    and returns the average accuracy of the classifier\n",
        "\n",
        "    alldata: numpy array of shape (n,d) where n is the number of samples and d is the number of features\n",
        "    alllabel: numpy array of shape (n,) where n is the number of samples\n",
        "    splitpercent: float which is the percentage of data to be used for training\n",
        "    iterations: int which is the number of iterations to run the classifier\n",
        "    classifier: function which is the classifier function to be used\n",
        "\n",
        "    returns: the average accuracy of the classifier\n",
        "    \"\"\"\n",
        "    accuracy = 0\n",
        "    for ii in range(iterations):\n",
        "        traindata, trainlabel, valdata, vallabel = split(\n",
        "            alldata, alllabel, splitpercent\n",
        "        )\n",
        "        valpred = classifier(traindata, trainlabel, valdata)\n",
        "        accuracy += Accuracy(vallabel, valpred)\n",
        "    return accuracy / iterations  # average of all accuracies"
      ]
    },
    {
      "cell_type": "code",
      "execution_count": 15,
      "metadata": {
        "colab": {
          "base_uri": "https://localhost:8080/"
        },
        "id": "H3qtNar7Bbik",
        "outputId": "95d8ffc8-584b-4b32-9789-9f4e7ff28b06"
      },
      "outputs": [
        {
          "output_type": "stream",
          "name": "stdout",
          "text": [
            "Average validation accuracy: 33.58463539517022 %\n",
            "Test accuracy: 34.91795366795367 %\n"
          ]
        }
      ],
      "source": [
        "avg_acc = AverageAccuracy(alltraindata, alltrainlabel, 75 / 100, 10, classifier=NN)\n",
        "print(\"Average validation accuracy:\", avg_acc*100, \"%\")\n",
        "testpred = NN(alltraindata, alltrainlabel, testdata)\n",
        "\n",
        "print(\"Test accuracy:\", Accuracy(testlabel, testpred)*100, \"%\")"
      ]
    },
    {
      "cell_type": "markdown",
      "metadata": {
        "id": "33GIn4x5VH-d"
      },
      "source": [
        "This is a very simple way of doing cross-validation. There are many well-known algorithms for cross-validation, like k-fold cross-validation, leave-one-out etc. This will be covered in detail in a later module. For more information about cross-validation, check <a href=https://en.wikipedia.org/wiki/Cross-validation_(statistics)>Cross-validatioin (Wikipedia)</a>\n",
        "\n",
        "### Questions\n",
        "1. Does averaging the validation accuracy across multiple splits give more consistent results?\n",
        "Yes, averaging the validation accuracy across multiple splits typically provides more consistent and reliable results. Here's why:\n",
        "\n",
        "\n",
        "---\n",
        "\n",
        "Benefits of Averaging Across Multiple Splits\n",
        "\n",
        "1. Reduces Variance:\n",
        "\n",
        "A single split of the data can produce biased or unstable results due to random variation in how the data is divided into training and validation sets.\n",
        "\n",
        "Averaging over multiple splits (e.g., in k-fold cross-validation) smooths out these fluctuations.\n",
        "\n",
        "\n",
        "\n",
        "2. Better Generalization Estimate:\n",
        "\n",
        "By evaluating performance across different subsets, you get a more accurate representation of how the model generalizes to unseen data.\n",
        "\n",
        "\n",
        "\n",
        "3. Mitigates Overfitting to Specific Splits:\n",
        "\n",
        "A single split might have an unusual distribution or class imbalance, skewing the accuracy.\n",
        "\n",
        "Multiple splits ensure that each part of the dataset contributes to both training and validation, balancing the evaluation.\n",
        "\n",
        "\n",
        "\n",
        "4. Handles Data Variability:\n",
        "\n",
        "When your dataset is small or imbalanced, multiple splits help account for variability in the data.\n",
        "\n",
        "\n",
        "\n",
        "\n",
        "\n",
        "---\n",
        "\n",
        "Common Methods\n",
        "\n",
        "1. k-Fold Cross-Validation:\n",
        "Divide the data into k folds and rotate the validation set across all folds.\n",
        "\n",
        "The final accuracy is the mean of accuracies from all folds.\n",
        "\n",
        "Example: 5-fold cross-validation averages results across 5 splits.\n",
        "\n",
        "\n",
        "\n",
        "2. Repeated k-Fold Cross-Validation:\n",
        "Repeat the k-fold process multiple times with different splits to further stabilize the results.\n",
        "\n",
        "\n",
        "3. Stratified Splits:\n",
        "For imbalanced data, use stratified splits to maintain class distribution across splits.\n",
        "\n",
        "\n",
        "\n",
        "\n",
        "---\n",
        "\n",
        "Caveats\n",
        "\n",
        "Computational Cost: Multiple splits increase computation time, as the model is trained and validated multiple times.\n",
        "\n",
        "Potential Data Leakage: Ensure data preprocessing (e.g., scaling, encoding) is done within each fold to avoid leakage between training and validation.\n",
        "\n",
        "\n",
        "\n",
        "---\n",
        "\n",
        "When Not to Average\n",
        "\n",
        "If the splits are not representative of the data (e.g., random splits without stratification in imbalanced datasets), the average may not be meaningful.\n",
        "\n",
        "Always check standard deviation along with the mean to understand the stability of your result\n",
        "\n",
        "2. Does it give more accurate estimate of test accuracy?\n",
        "Yes, averaging validation accuracy across multiple splits (e.g., using k-fold cross-validation) generally provides a more accurate estimate of test accuracy, but with some caveats. Here's why:\n",
        "\n",
        "\n",
        "---\n",
        "\n",
        "Why It Improves Test Accuracy Estimation\n",
        "\n",
        "1. Reduced Overfitting to a Single Split\n",
        "\n",
        "A single validation set might not represent the overall data distribution, leading to an over- or under-estimation of test accuracy.\n",
        "\n",
        "Multiple splits average out this bias, giving a better estimate of the model's performance on unseen data.\n",
        "\n",
        "\n",
        "\n",
        "2. Better Utilization of Data\n",
        "\n",
        "In k-fold cross-validation, every data point is used for validation exactly once and for training  times.\n",
        "\n",
        "This ensures the model learns from and is tested on all parts of the dataset, making the evaluation more robust.\n",
        "\n",
        "\n",
        "\n",
        "3. Accounts for Data Variability\n",
        "\n",
        "If certain splits of the data are easier or harder to predict, averaging across multiple splits provides a more balanced accuracy estimate.\n",
        "\n",
        "\n",
        "\n",
        "4. Handles Imbalanced Datasets\n",
        "\n",
        "Techniques like stratified k-fold cross-validation maintain class proportions across splits, improving accuracy estimation for imbalanced datasets.\n",
        "\n",
        "\n",
        "\n",
        "\n",
        "\n",
        "---\n",
        "\n",
        "Comparison to Single-Split Validation\n",
        "\n",
        "Single-Split Validation: Test accuracy estimate can vary greatly depending on how the data is split (e.g., 80% train, 20% validation). This split might not represent the true distribution of the test data.\n",
        "\n",
        "Cross-Validation: Provides a more reliable and less noisy estimate by testing on multiple subsets and averaging the results.\n",
        "\n",
        "\n",
        "\n",
        "---\n",
        "\n",
        "Caveats\n",
        "\n",
        "1. Still an Estimate:\n",
        "Cross-validation provides an estimate of test accuracy, not the exact test accuracy. Differences can arise due to:\n",
        "\n",
        "Test data having a slightly different distribution.\n",
        "\n",
        "Noise or randomness in the data.\n",
        "\n",
        "\n",
        "\n",
        "2. Data Leakage Risk:\n",
        "If preprocessing (e.g., normalization, feature selection) is done incorrectly (e.g., before splitting), it may lead to overly optimistic results.\n",
        "\n",
        "\n",
        "3. Standard Deviation Matters:\n",
        "Even with averaging, a high standard deviation across splits indicates the model may perform inconsistently on test data.\n",
        "\n",
        "\n",
        "\n",
        "\n",
        "---\n",
        "\n",
        "When It Doesn't Help\n",
        "\n",
        "If the training and test data come from different distributions, cross-validation won't accurately estimate test accuracy. Instead, domain-specific validation methods or additional holdout test sets may be needed.\n",
        "\n",
        "\n",
        "\n",
        "---\n",
        "\n",
        "Conclusion\n",
        "\n",
        "Averaging validation accuracy across multiple splits typically gives a more reliable and accurate estimate of test accuracy, especially when the data is small, imbalanced, or noisy. However, it's not a guarantee, and care must be taken to avoid pitfalls like data leakage.\n",
        "\n",
        "Would you like a demonstration of this in practice?\n",
        "\n",
        "\n",
        "3. What is the effect of the number of iterations on the estimate? Do we get a better estimate with higher iterations?\n",
        "The number of iterations in a cross-validation process (e.g., k-fold cross-validation or repeated k-fold cross-validation) affects the reliability and stability of the test accuracy estimate. Here's the impact of increasing the number of iterations:\n",
        "\n",
        "\n",
        "---\n",
        "\n",
        "Effect of the Number of Iterations\n",
        "\n",
        "1. Improved Stability:\n",
        "\n",
        "With more iterations (e.g., more folds or repeated k-fold), the estimate becomes more consistent by reducing the influence of random variations in the data splits.\n",
        "\n",
        "The standard deviation of accuracy across folds decreases, making the estimate more reliable.\n",
        "\n",
        "\n",
        "\n",
        "2. Diminishing Returns:\n",
        "\n",
        "After a certain point, increasing the number of iterations provides minimal benefit. This is because the accuracy estimate converges toward the true test accuracy as you average over more splits.\n",
        "\n",
        "\n",
        "\n",
        "3. Robustness to Outliers:\n",
        "\n",
        "Higher iterations reduce the effect of any single \"unlucky\" split that might have been biased (e.g., containing harder-to-predict samples in the validation set).\n",
        "\n",
        "\n",
        "\n",
        "4. Better Utilization of Data:\n",
        "\n",
        "In repeated k-fold, every data point participates in validation multiple times across different splits, leading to a broader evaluation of performance.\n",
        "\n",
        "\n",
        "\n",
        "\n",
        "\n",
        "---\n",
        "\n",
        "When Higher Iterations May Not Help\n",
        "\n",
        "1. Computational Cost:\n",
        "\n",
        "More iterations increase training time since the model is trained and validated multiple times.\n",
        "\n",
        "For complex models, this can become infeasible.\n",
        "\n",
        "\n",
        "\n",
        "2. Noisy Data:\n",
        "\n",
        "If the dataset is noisy or very small, increasing iterations may not significantly improve the estimate, as the underlying data variability limits the accuracy.\n",
        "\n",
        "\n",
        "\n",
        "3. Convergence Limit:\n",
        "\n",
        "After sufficient iterations (e.g., 10-20 folds or repetitions), the accuracy estimate often stabilizes. Further iterations may only yield marginal improvements.\n",
        "\n",
        "\n",
        "\n",
        "\n",
        "\n",
        "---\n",
        "\n",
        "Recommendation\n",
        "\n",
        "Small Datasets: Use a higher number of folds (e.g., 10 or more) or repeated k-fold cross-validation to ensure robustness.\n",
        "\n",
        "Larger Datasets: Fewer iterations (e.g., 5-10 folds) are often sufficient since the law of large numbers ensures a stable estimate.\n",
        "\n",
        "\n",
        "\n",
        "---\n",
        "\n",
        "Conclusion\n",
        "\n",
        "Higher iterations generally improve the accuracy estimate's reliability but have diminishing returns beyond a certain point. The optimal number depends on your dataset size, variability, and computational resources. Would you like guidance on selecting the number of iterations for your specific use case?\n",
        "\n",
        "\n",
        "\n",
        "4. Consider the results you got for the previous questions. Can we deal with a very small train dataset or validation dataset by increasing the iterations?\n",
        "Increasing the number of iterations (or folds) in cross-validation can help mitigate the issue of a very small training or validation dataset to some extent, but it doesn't entirely solve the problem. Here's why:\n",
        "\n",
        "\n",
        "---\n",
        "\n",
        "Effect of Small Train/Validation Dataset\n",
        "\n",
        "1. Limited Training Data:\n",
        "\n",
        "If the training dataset is very small, the model may not be able to learn effectively, even with increased iterations. Each model trained on such a small dataset will be heavily influenced by noise, potentially leading to overfitting.\n",
        "\n",
        "Increasing iterations might allow the model to train on more subsets of the data, but the quality of the model will still be limited by the small amount of data available.\n",
        "\n",
        "\n",
        "\n",
        "2. Limited Validation Data:\n",
        "\n",
        "For small validation datasets, cross-validation helps by using different portions of the data for validation, but it still doesn't compensate for the lack of a large, representative validation set. If the validation set is too small, it might not fully capture the model’s performance on unseen data.\n",
        "\n",
        "\n",
        "\n",
        "\n",
        "\n",
        "---\n",
        "\n",
        "What Increasing Iterations Helps With\n",
        "\n",
        "1. Better Utilization of Available Data:\n",
        "\n",
        "In k-fold cross-validation, each data point gets used for training  times and for validation once, meaning every data point contributes to both training and validation. This helps make the most out of the limited data.\n",
        "\n",
        "Repeated k-fold cross-validation allows the model to be evaluated on different random splits, further reducing the impact of any single data split.\n",
        "\n",
        "\n",
        "\n",
        "2. Reducing Bias from One Split:\n",
        "\n",
        "Increasing the number of folds or repetitions can smooth out any irregularities or biases from a single split, especially in small datasets. This ensures that the performance estimate is more robust.\n",
        "\n",
        "\n",
        "\n",
        "\n",
        "\n",
        "---\n",
        "\n",
        "Limitations of Increasing Iterations with Small Datasets\n",
        "\n",
        "1. Overfitting to Small Data:\n",
        "\n",
        "While you might get a better estimate of performance, the model's ability to generalize may still be poor if the training data is too small. Cross-validation doesn't magically increase the amount of useful information available for training.\n",
        "\n",
        "\n",
        "\n",
        "2. Bias in Evaluation:\n",
        "\n",
        "A very small validation set may still fail to give an accurate estimate of test performance, even with more iterations. If the data is limited, there's a chance that the splits won't represent the entire population well.\n",
        "\n",
        "\n",
        "\n",
        "3. Noise and Variability:\n",
        "\n",
        "Small datasets are prone to high variability. Multiple iterations can help smooth out the estimate, but the inherent noise in the data will still affect the results.\n",
        "\n",
        "\n",
        "\n",
        "\n",
        "\n",
        "---\n",
        "\n",
        "Alternative Approaches to Handle Small Datasets\n",
        "\n",
        "1. Data Augmentation:\n",
        "\n",
        "For certain types of data (e.g., images, text), you can apply augmentation techniques (like rotation, scaling, cropping) to artificially increase the size of the training dataset.\n",
        "\n",
        "\n",
        "\n",
        "2. Transfer Learning:\n",
        "\n",
        "If possible, use a pre-trained model on a larger dataset and fine-tune it on your small dataset. This leverages knowledge learned from larger datasets.\n",
        "\n",
        "\n",
        "\n",
        "3. Regularization:\n",
        "\n",
        "Apply regularization techniques (like L2 regularization) to avoid overfitting on small datasets and to encourage the model to generalize better.\n",
        "\n",
        "\n",
        "\n",
        "4. Synthetic Data Generation:\n",
        "\n",
        "In some cases, generating synthetic data (e.g., using SMOTE for imbalanced data or other generative models) can help improve the model's ability to generalize.\n",
        "\n",
        "\n",
        "\n",
        "5. Holdout Test Set:\n",
        "\n",
        "If the dataset is too small for cross-validation, consider using a train-validation-test split. Ensure that the test set remains unseen during both training and validation phases to get an unbiased estimate of performance.\n",
        "\n",
        "\n",
        "\n",
        "\n",
        "\n",
        "---\n",
        "\n",
        "Conclusion\n",
        "\n",
        "While increasing iterations in cross-validation can help by better utilizing small datasets and providing a more stable estimate, it does not fully address the fundamental problem of having too little data. If you are working with a very small dataset, other strategies like data augmentation, transfer learning, and regularization should be explored to improve model performance.\n",
        "\n",
        "Would you like more details on any of these strategies?"
      ]
    },
    {
      "cell_type": "markdown",
      "metadata": {
        "id": "z-SBxy1qevgJ"
      },
      "source": [
        "> Exercise: How does the accuracy of the 3 nearest neighbour classifier change with the number of splits? How is it affected by the split size? Compare the results with the 1 nearest neighbour classifier."
      ]
    }
  ],
  "metadata": {
    "colab": {
      "provenance": [],
      "include_colab_link": true
    },
    "kernelspec": {
      "display_name": "Python 3",
      "name": "python3"
    },
    "language_info": {
      "codemirror_mode": {
        "name": "ipython",
        "version": 3
      },
      "file_extension": ".py",
      "mimetype": "text/x-python",
      "name": "python",
      "nbconvert_exporter": "python",
      "pygments_lexer": "ipython3",
      "version": "3.10.10"
    }
  },
  "nbformat": 4,
  "nbformat_minor": 0
}